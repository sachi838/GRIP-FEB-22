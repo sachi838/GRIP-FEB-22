{
  "nbformat": 4,
  "nbformat_minor": 0,
  "metadata": {
    "colab": {
      "name": "Untitled6.ipynb",
      "private_outputs": true,
      "provenance": [],
      "collapsed_sections": [],
      "toc_visible": true,
      "authorship_tag": "ABX9TyO/WQMcF0NbBkuaX/bwSOL3",
      "include_colab_link": true
    },
    "kernelspec": {
      "name": "python3",
      "display_name": "Python 3"
    },
    "language_info": {
      "name": "python"
    }
  },
  "cells": [
    {
      "cell_type": "markdown",
      "metadata": {
        "id": "view-in-github",
        "colab_type": "text"
      },
      "source": [
        "<a href=\"https://colab.research.google.com/github/sachi838/GRIP-FEB-22/blob/main/Untitled6.ipynb\" target=\"_parent\"><img src=\"https://colab.research.google.com/assets/colab-badge.svg\" alt=\"Open In Colab\"/></a>"
      ]
    },
    {
      "cell_type": "markdown",
      "source": [
        "#**The** **Sparks** **Foundation**\n",
        "\n",
        "## Data Science and Business Analytics Internship\n",
        "\n",
        "### **GRIP - FEBRUARY'22**\n",
        "\n",
        "### TASK - 3 EXPLORATORY DATA ANALYSIS - RETAIL\n",
        "\n",
        "Perform 'Exploratory Data Analysis' on Dataset 'SampleSuperStore'\n",
        "\n",
        "Data Set - https://bit.ly/3i4rbWl\n",
        "\n",
        "## **Author - SACHI RANA**\n",
        "\n"
      ],
      "metadata": {
        "id": "PW-0A916lLGn"
      }
    },
    {
      "cell_type": "code",
      "source": [
        "import pandas as pd\n",
        "import numpy as np\n",
        "import matplotlib.pyplot as plt\n",
        "import seaborn as sns"
      ],
      "metadata": {
        "id": "zhNOTAebdpsk"
      },
      "execution_count": null,
      "outputs": []
    },
    {
      "cell_type": "code",
      "source": [
        "data=pd.read_csv('SampleSuperstore.csv')"
      ],
      "metadata": {
        "id": "JjOuEWINfsLk"
      },
      "execution_count": null,
      "outputs": []
    },
    {
      "cell_type": "code",
      "source": [
        "data.head()"
      ],
      "metadata": {
        "id": "O_6u3GEqjBlr"
      },
      "execution_count": null,
      "outputs": []
    },
    {
      "cell_type": "code",
      "source": [
        "data.shape"
      ],
      "metadata": {
        "id": "-sOyQ1KljmrF"
      },
      "execution_count": null,
      "outputs": []
    },
    {
      "cell_type": "code",
      "source": [
        "data.info()"
      ],
      "metadata": {
        "id": "14IIYhO_jqgi"
      },
      "execution_count": null,
      "outputs": []
    },
    {
      "cell_type": "code",
      "source": [
        "data.columns"
      ],
      "metadata": {
        "id": "-6Mjn3Vdjtzz"
      },
      "execution_count": null,
      "outputs": []
    },
    {
      "cell_type": "code",
      "source": [
        "#finding null value or not\n",
        "data.isnull().sum()"
      ],
      "metadata": {
        "id": "wBPbSfFVjzMk"
      },
      "execution_count": null,
      "outputs": []
    },
    {
      "cell_type": "code",
      "source": [
        "data['Ship Mode'].value_counts()"
      ],
      "metadata": {
        "id": "49aZ8iYBj2U-"
      },
      "execution_count": null,
      "outputs": []
    },
    {
      "cell_type": "code",
      "source": [
        "data['Country'].value_counts()"
      ],
      "metadata": {
        "id": "wM1g1S7Jj92M"
      },
      "execution_count": null,
      "outputs": []
    },
    {
      "cell_type": "code",
      "source": [
        "data.State.value_counts()"
      ],
      "metadata": {
        "id": "xP_47VBOkBbd"
      },
      "execution_count": null,
      "outputs": []
    },
    {
      "cell_type": "code",
      "source": [
        "data['Region'].value_counts()"
      ],
      "metadata": {
        "id": "pRh0JcppkE27"
      },
      "execution_count": null,
      "outputs": []
    },
    {
      "cell_type": "code",
      "source": [
        "#checking different categories\n",
        "data['Category'].unique()"
      ],
      "metadata": {
        "id": "QKcArvfCkH9B"
      },
      "execution_count": null,
      "outputs": []
    },
    {
      "cell_type": "code",
      "source": [
        "data['Category'].value_counts()"
      ],
      "metadata": {
        "id": "LKUsQL3EkLDd"
      },
      "execution_count": null,
      "outputs": []
    },
    {
      "cell_type": "code",
      "source": [
        "data['Sub-Category'].value_counts()"
      ],
      "metadata": {
        "id": "_sqOvuCSkOIC"
      },
      "execution_count": null,
      "outputs": []
    },
    {
      "cell_type": "code",
      "source": [
        "#Visualising the Category and sub-category\n",
        "plt.figure(figsize=(16,5))\n",
        "plt.bar('Sub-Category','Category',data=data)\n",
        "plt.xlabel('Sub-Category')\n",
        "plt.ylabel('Category')\n",
        "plt.show()"
      ],
      "metadata": {
        "id": "MFqxq7gSkPpn"
      },
      "execution_count": null,
      "outputs": []
    },
    {
      "cell_type": "code",
      "source": [
        "#visualising sales and profit\n",
        "data.groupby('Sub-Category')['Sales','Profit'].agg(['sum']).plot.bar()\n",
        "plt.title('sum of profit and sales  as per  sub-category')\n",
        "plt.show()"
      ],
      "metadata": {
        "id": "vQosFHn5kZZr"
      },
      "execution_count": null,
      "outputs": []
    },
    {
      "cell_type": "code",
      "source": [
        "#find the cost of product using general formula\n",
        "data['cost']=data['Sales']-data['Profit']"
      ],
      "metadata": {
        "id": "rmZb700ikdpT"
      },
      "execution_count": null,
      "outputs": []
    },
    {
      "cell_type": "code",
      "source": [
        "data['cost'].head()"
      ],
      "metadata": {
        "id": "Br79thNhke46"
      },
      "execution_count": null,
      "outputs": []
    },
    {
      "cell_type": "code",
      "source": [
        "data.head()"
      ],
      "metadata": {
        "id": "oV7bCAiqkmai"
      },
      "execution_count": null,
      "outputs": []
    },
    {
      "cell_type": "code",
      "source": [
        "#visualising cost and profit\n",
        "data.groupby('Sub-Category')['cost','Profit'].agg(['sum']).plot.bar()\n",
        "plt.show()"
      ],
      "metadata": {
        "id": "_VMI-1gtktDz"
      },
      "execution_count": null,
      "outputs": []
    },
    {
      "cell_type": "code",
      "source": [
        "#Different customer with their stack\n",
        "sns.countplot(x=data.Segment)\n",
        "plt.show()"
      ],
      "metadata": {
        "id": "pBbsQWSHkyC9"
      },
      "execution_count": null,
      "outputs": []
    },
    {
      "cell_type": "code",
      "source": [
        "#Sorting top 10 state as per profit in different customer segement\n",
        "\n",
        "sort_top=data.sort_values(['Profit'],ascending=False).head(10)\n",
        "fig=plt.figure(figsize=(12,8))\n",
        "x=fig.add_subplot(111)\n",
        "sns.barplot(x='Segment',y='Profit',hue='State',palette='Set1',data=sort_top,ax=x)\n",
        "plt.show()"
      ],
      "metadata": {
        "id": "7bxHckp8k2AP"
      },
      "execution_count": null,
      "outputs": []
    },
    {
      "cell_type": "markdown",
      "source": [
        "# Conclusion\n",
        "\n",
        "The maximum profit found in corporate is Indiana state.\n",
        "\n",
        "The maximum profit found in consumer segment is washington.\n",
        "\n",
        "The maximum profit found in Home office is NewYork.\n",
        "\n"
      ],
      "metadata": {
        "id": "m8K3CF6qk6lr"
      }
    }
  ]
}